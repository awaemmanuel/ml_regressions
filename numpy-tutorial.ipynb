version https://git-lfs.github.com/spec/v1
oid sha256:ec43bbb997206be43fb6624e303c3afa9a2891a84bef5351f19014fddf43ee05
size 17573
